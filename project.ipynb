{
 "cells": [
  {
   "cell_type": "code",
   "execution_count": null,
   "id": "42657104-1593-4051-bbb5-30431766c82f",
   "metadata": {},
   "outputs": [],
   "source": [
    "import pandas as pd\n",
    "\n",
    "records = pd.read_csv('flights_2025.csv')\n",
    "print(records)"
   ]
  },
  {
   "cell_type": "code",
   "execution_count": 13,
   "id": "4e772b41-4709-44f7-8075-f99ae71f069e",
   "metadata": {},
   "outputs": [
    {
     "data": {
      "text/html": [
       "<div>\n",
       "<style scoped>\n",
       "    .dataframe tbody tr th:only-of-type {\n",
       "        vertical-align: middle;\n",
       "    }\n",
       "\n",
       "    .dataframe tbody tr th {\n",
       "        vertical-align: top;\n",
       "    }\n",
       "\n",
       "    .dataframe thead th {\n",
       "        text-align: right;\n",
       "    }\n",
       "</style>\n",
       "<table border=\"1\" class=\"dataframe\">\n",
       "  <thead>\n",
       "    <tr style=\"text-align: right;\">\n",
       "      <th></th>\n",
       "      <th>YEAR</th>\n",
       "      <th>MONTH_NUM</th>\n",
       "      <th>FLT_DEP_1</th>\n",
       "      <th>FLT_DEP_IFR_2</th>\n",
       "      <th>DLY_ATC_PRE_2</th>\n",
       "      <th>FLT_DEP_3</th>\n",
       "      <th>DLY_ATC_PRE_3</th>\n",
       "    </tr>\n",
       "  </thead>\n",
       "  <tbody>\n",
       "    <tr>\n",
       "      <th>count</th>\n",
       "      <td>37343.0</td>\n",
       "      <td>37343.000000</td>\n",
       "      <td>37343.000000</td>\n",
       "      <td>6320.000000</td>\n",
       "      <td>6320.000000</td>\n",
       "      <td>19231.000000</td>\n",
       "      <td>19231.000000</td>\n",
       "    </tr>\n",
       "    <tr>\n",
       "      <th>mean</th>\n",
       "      <td>2025.0</td>\n",
       "      <td>2.509386</td>\n",
       "      <td>66.092333</td>\n",
       "      <td>148.058861</td>\n",
       "      <td>91.277057</td>\n",
       "      <td>53.877749</td>\n",
       "      <td>40.482034</td>\n",
       "    </tr>\n",
       "    <tr>\n",
       "      <th>std</th>\n",
       "      <td>0.0</td>\n",
       "      <td>1.125303</td>\n",
       "      <td>114.329166</td>\n",
       "      <td>110.846832</td>\n",
       "      <td>309.343365</td>\n",
       "      <td>81.984770</td>\n",
       "      <td>132.887208</td>\n",
       "    </tr>\n",
       "    <tr>\n",
       "      <th>min</th>\n",
       "      <td>2025.0</td>\n",
       "      <td>1.000000</td>\n",
       "      <td>0.000000</td>\n",
       "      <td>0.000000</td>\n",
       "      <td>0.000000</td>\n",
       "      <td>1.000000</td>\n",
       "      <td>0.000000</td>\n",
       "    </tr>\n",
       "    <tr>\n",
       "      <th>25%</th>\n",
       "      <td>2025.0</td>\n",
       "      <td>1.000000</td>\n",
       "      <td>5.000000</td>\n",
       "      <td>70.000000</td>\n",
       "      <td>1.000000</td>\n",
       "      <td>4.000000</td>\n",
       "      <td>0.000000</td>\n",
       "    </tr>\n",
       "    <tr>\n",
       "      <th>50%</th>\n",
       "      <td>2025.0</td>\n",
       "      <td>3.000000</td>\n",
       "      <td>17.000000</td>\n",
       "      <td>110.000000</td>\n",
       "      <td>20.000000</td>\n",
       "      <td>19.000000</td>\n",
       "      <td>1.000000</td>\n",
       "    </tr>\n",
       "    <tr>\n",
       "      <th>75%</th>\n",
       "      <td>2025.0</td>\n",
       "      <td>4.000000</td>\n",
       "      <td>76.000000</td>\n",
       "      <td>210.000000</td>\n",
       "      <td>81.000000</td>\n",
       "      <td>70.000000</td>\n",
       "      <td>27.000000</td>\n",
       "    </tr>\n",
       "    <tr>\n",
       "      <th>max</th>\n",
       "      <td>2025.0</td>\n",
       "      <td>4.000000</td>\n",
       "      <td>790.000000</td>\n",
       "      <td>685.000000</td>\n",
       "      <td>9405.000000</td>\n",
       "      <td>580.000000</td>\n",
       "      <td>3698.000000</td>\n",
       "    </tr>\n",
       "  </tbody>\n",
       "</table>\n",
       "</div>"
      ],
      "text/plain": [
       "          YEAR     MONTH_NUM     FLT_DEP_1  FLT_DEP_IFR_2  DLY_ATC_PRE_2  \\\n",
       "count  37343.0  37343.000000  37343.000000    6320.000000    6320.000000   \n",
       "mean    2025.0      2.509386     66.092333     148.058861      91.277057   \n",
       "std        0.0      1.125303    114.329166     110.846832     309.343365   \n",
       "min     2025.0      1.000000      0.000000       0.000000       0.000000   \n",
       "25%     2025.0      1.000000      5.000000      70.000000       1.000000   \n",
       "50%     2025.0      3.000000     17.000000     110.000000      20.000000   \n",
       "75%     2025.0      4.000000     76.000000     210.000000      81.000000   \n",
       "max     2025.0      4.000000    790.000000     685.000000    9405.000000   \n",
       "\n",
       "          FLT_DEP_3  DLY_ATC_PRE_3  \n",
       "count  19231.000000   19231.000000  \n",
       "mean      53.877749      40.482034  \n",
       "std       81.984770     132.887208  \n",
       "min        1.000000       0.000000  \n",
       "25%        4.000000       0.000000  \n",
       "50%       19.000000       1.000000  \n",
       "75%       70.000000      27.000000  \n",
       "max      580.000000    3698.000000  "
      ]
     },
     "execution_count": 13,
     "metadata": {},
     "output_type": "execute_result"
    }
   ],
   "source": [
    "records.describe()"
   ]
  },
  {
   "cell_type": "code",
   "execution_count": 15,
   "id": "3a5b61c9-d1ee-4f2b-a7c4-299330d499b3",
   "metadata": {},
   "outputs": [
    {
     "data": {
      "text/plain": [
       "FLT_DEP_1\n",
       "2      2233\n",
       "3      2043\n",
       "1      1921\n",
       "4      1843\n",
       "5      1479\n",
       "       ... \n",
       "703       1\n",
       "400       1\n",
       "550       1\n",
       "637       1\n",
       "720       1\n",
       "Name: count, Length: 712, dtype: int64"
      ]
     },
     "execution_count": 15,
     "metadata": {},
     "output_type": "execute_result"
    }
   ],
   "source": [
    "records['FLT_DEP_1'].value_counts()"
   ]
  },
  {
   "cell_type": "code",
   "execution_count": 20,
   "id": "cb54b24a-5df6-4cf1-ab8b-510db639cb17",
   "metadata": {},
   "outputs": [
    {
     "name": "stdout",
     "output_type": "stream",
     "text": [
      "   YEAR  MONTH_NUM MONTH_MON    FLT_DATE APT_ICAO       APT_NAME STATE_NAME  \\\n",
      "0  2025          1       JAN  2025-01-01     EBAW        Antwerp    Belgium   \n",
      "1  2025          1       JAN  2025-01-01     EBBR       Brussels    Belgium   \n",
      "2  2025          1       JAN  2025-01-01     EBCI      Charleroi    Belgium   \n",
      "3  2025          1       JAN  2025-01-01     EBLG          Liège    Belgium   \n",
      "4  2025          1       JAN  2025-01-01     EBOS  Ostend-Bruges    Belgium   \n",
      "\n",
      "   FLT_DEP_1  FLT_DEP_IFR_2  DLY_ATC_PRE_2  FLT_DEP_3  DLY_ATC_PRE_3  \n",
      "0          4            NaN            NaN        1.0            0.0  \n",
      "1        216          216.0          154.0      151.0           97.0  \n",
      "2         94           94.0            0.0       87.0           58.0  \n",
      "3         17            NaN            NaN        1.0            0.0  \n",
      "4          4            NaN            NaN        1.0            0.0  \n"
     ]
    }
   ],
   "source": [
    "print(records.head())"
   ]
  },
  {
   "cell_type": "code",
   "execution_count": 21,
   "id": "b35721eb-123f-4a28-91a8-70cddfff956b",
   "metadata": {},
   "outputs": [
    {
     "name": "stdout",
     "output_type": "stream",
     "text": [
      "YEAR                 0\n",
      "MONTH_NUM            0\n",
      "MONTH_MON            0\n",
      "FLT_DATE             0\n",
      "APT_ICAO             0\n",
      "APT_NAME             0\n",
      "STATE_NAME           0\n",
      "FLT_DEP_1            0\n",
      "FLT_DEP_IFR_2    31023\n",
      "DLY_ATC_PRE_2    31023\n",
      "FLT_DEP_3        18112\n",
      "DLY_ATC_PRE_3    18112\n",
      "dtype: int64\n"
     ]
    }
   ],
   "source": [
    "print(records.isnull().sum())"
   ]
  },
  {
   "cell_type": "code",
   "execution_count": 23,
   "id": "b1d9deda-f6b9-4aef-aec3-b5de566f130a",
   "metadata": {},
   "outputs": [],
   "source": [
    "records_cleaned = records.dropna()\n"
   ]
  },
  {
   "cell_type": "code",
   "execution_count": null,
   "id": "bdedc185-1147-4139-9ca2-5614e62516da",
   "metadata": {},
   "outputs": [],
   "source": [
    "record"
   ]
  }
 ],
 "metadata": {
  "kernelspec": {
   "display_name": "anaconda-panel-2023.05-py310",
   "language": "python",
   "name": "conda-env-anaconda-panel-2023.05-py310-py"
  },
  "language_info": {
   "codemirror_mode": {
    "name": "ipython",
    "version": 3
   },
   "file_extension": ".py",
   "mimetype": "text/x-python",
   "name": "python",
   "nbconvert_exporter": "python",
   "pygments_lexer": "ipython3",
   "version": "3.11.5"
  }
 },
 "nbformat": 4,
 "nbformat_minor": 5
}
